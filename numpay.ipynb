{
  "nbformat": 4,
  "nbformat_minor": 0,
  "metadata": {
    "colab": {
      "provenance": [],
      "authorship_tag": "ABX9TyPTzX4Az01xO93HGZuvdaSM",
      "include_colab_link": true
    },
    "kernelspec": {
      "name": "python3",
      "display_name": "Python 3"
    },
    "language_info": {
      "name": "python"
    }
  },
  "cells": [
    {
      "cell_type": "markdown",
      "metadata": {
        "id": "view-in-github",
        "colab_type": "text"
      },
      "source": [
        "<a href=\"https://colab.research.google.com/github/Surajpanjiyar/Assignment-1-NumPy/blob/main/numpay.ipynb\" target=\"_parent\"><img src=\"https://colab.research.google.com/assets/colab-badge.svg\" alt=\"Open In Colab\"/></a>"
      ]
    },
    {
      "cell_type": "code",
      "execution_count": 2,
      "metadata": {
        "colab": {
          "base_uri": "https://localhost:8080/"
        },
        "id": "WpCdK_iyz2Wi",
        "outputId": "77841462-0155-4ec5-86b4-102738b9e83f"
      },
      "outputs": [
        {
          "output_type": "stream",
          "name": "stdout",
          "text": [
            "[0. 0. 0. 0. 1. 0. 0. 0. 0. 0.]\n"
          ]
        }
      ],
      "source": [
        " # Create a null vector of size 10 but the fifth value which is 1.\n",
        "\n",
        "import numpy as np\n",
        "\n",
        "null_vector = np.zeros(10)\n",
        "\n",
        "null_vector[4] = 1\n",
        "\n",
        "print(null_vector)\n"
      ]
    },
    {
      "cell_type": "code",
      "source": [
        "# Create a vector with values ranging from 10 to 49.\n",
        "\n",
        "import numpy as np\n",
        "\n",
        "vector = np.arange(10, 50)\n",
        "\n",
        "print(vector)\n"
      ],
      "metadata": {
        "colab": {
          "base_uri": "https://localhost:8080/"
        },
        "id": "H4BFupFm0Mtw",
        "outputId": "a7502bd8-b5a9-4b05-8f81-b1ce83e07eb6"
      },
      "execution_count": 4,
      "outputs": [
        {
          "output_type": "stream",
          "name": "stdout",
          "text": [
            "[10 11 12 13 14 15 16 17 18 19 20 21 22 23 24 25 26 27 28 29 30 31 32 33\n",
            " 34 35 36 37 38 39 40 41 42 43 44 45 46 47 48 49]\n"
          ]
        }
      ]
    },
    {
      "cell_type": "code",
      "source": [
        "# Create a 3x3 matrix with values ranging from 0 to 8.\n",
        "\n",
        "import numpy as np\n",
        "\n",
        "matrix = np.arange(9).reshape(3, 3)\n",
        "\n",
        "print(matrix)\n"
      ],
      "metadata": {
        "colab": {
          "base_uri": "https://localhost:8080/"
        },
        "id": "YFROhfOn0geO",
        "outputId": "9081c929-36e9-4796-8bfc-8ceaed363edc"
      },
      "execution_count": 5,
      "outputs": [
        {
          "output_type": "stream",
          "name": "stdout",
          "text": [
            "[[0 1 2]\n",
            " [3 4 5]\n",
            " [6 7 8]]\n"
          ]
        }
      ]
    },
    {
      "cell_type": "code",
      "source": [
        "# Find indices of non-zero elements from [1,2,0,0,4,0].\n",
        "\n",
        "import numpy as np\n",
        "\n",
        "arr = np.array([1, 2, 0, 0, 4, 0])\n",
        "\n",
        "indices = np.nonzero(arr)\n",
        "\n",
        "print(indices)\n"
      ],
      "metadata": {
        "colab": {
          "base_uri": "https://localhost:8080/"
        },
        "id": "YsNT2gVW02jb",
        "outputId": "b611b0ca-4521-4ad0-c893-3db62001d726"
      },
      "execution_count": 6,
      "outputs": [
        {
          "output_type": "stream",
          "name": "stdout",
          "text": [
            "(array([0, 1, 4]),)\n"
          ]
        }
      ]
    },
    {
      "cell_type": "code",
      "source": [
        "# Create a 10x10 array with random values and find the minimum and maximum values.\n",
        "\n",
        "import numpy as np\n",
        "\n",
        "array = np.random.rand(10, 10)\n",
        "\n",
        "min_value = np.min(array)\n",
        "max_value = np.max(array)\n",
        "\n",
        "print(\"Minimum value:\", min_value)\n",
        "print(\"Maximum value:\", max_value)\n"
      ],
      "metadata": {
        "colab": {
          "base_uri": "https://localhost:8080/"
        },
        "id": "byq_enxX1CyQ",
        "outputId": "3bec206f-b23f-4aef-a62e-91bbec0ec2d5"
      },
      "execution_count": 7,
      "outputs": [
        {
          "output_type": "stream",
          "name": "stdout",
          "text": [
            "Minimum value: 0.02060390420240854\n",
            "Maximum value: 0.9947086574511634\n"
          ]
        }
      ]
    },
    {
      "cell_type": "code",
      "source": [
        "# Create a random vector of size 30 and find the mean value.\n",
        "\n",
        "import numpy as np\n",
        "\n",
        "random_vector = np.random.rand(30)\n",
        "\n",
        "mean_value = np.mean(random_vector)\n",
        "\n",
        "print(\"Mean value:\", mean_value)\n"
      ],
      "metadata": {
        "colab": {
          "base_uri": "https://localhost:8080/"
        },
        "id": "XTsV9Q2x1ON4",
        "outputId": "0b49eed8-0b6b-42be-bd40-bd5e700d4a12"
      },
      "execution_count": 9,
      "outputs": [
        {
          "output_type": "stream",
          "name": "stdout",
          "text": [
            "Mean value: 0.5075234371875597\n"
          ]
        }
      ]
    }
  ]
}